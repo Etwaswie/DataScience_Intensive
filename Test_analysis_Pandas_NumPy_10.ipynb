{
 "cells": [
  {
   "cell_type": "markdown",
   "metadata": {},
   "source": [
    "# Pandas"
   ]
  },
  {
   "cell_type": "code",
   "execution_count": 160,
   "metadata": {},
   "outputs": [],
   "source": [
    "import pandas as pd\n",
    "import seaborn as sns\n",
    "import matplotlib\n",
    "import numpy as np\n",
    "import math\n",
    "import scipy as sp\n",
    "from scipy import integrate\n",
    "from scipy import linalg"
   ]
  },
  {
   "cell_type": "markdown",
   "metadata": {},
   "source": [
    "## Загрузка данных и предварительный анализ"
   ]
  },
  {
   "cell_type": "code",
   "execution_count": 19,
   "metadata": {},
   "outputs": [],
   "source": [
    "data = pd.read_csv(\"C:/Users/rediv/OneDrive/Desktop/share-of-calories-from-animal-protein-vs-mean-male-height.csv\", index_col=False)"
   ]
  },
  {
   "cell_type": "code",
   "execution_count": 20,
   "metadata": {},
   "outputs": [
    {
     "name": "stdout",
     "output_type": "stream",
     "text": [
      "<class 'pandas.core.frame.DataFrame'>\n",
      "RangeIndex: 24479 entries, 0 to 24478\n",
      "Data columns (total 6 columns):\n",
      " #   Column                                     Non-Null Count  Dtype  \n",
      "---  ------                                     --------------  -----  \n",
      " 0   Entity                                     24479 non-null  object \n",
      " 1   Code                                       23668 non-null  object \n",
      " 2   Year                                       24479 non-null  int64  \n",
      " 3   Calories from animal protein (FAO (2017))  8981 non-null   float64\n",
      " 4   Mean male height (cm)                      21008 non-null  float64\n",
      " 5   Continent                                  285 non-null    object \n",
      "dtypes: float64(2), int64(1), object(3)\n",
      "memory usage: 1.1+ MB\n"
     ]
    }
   ],
   "source": [
    "data.info()"
   ]
  },
  {
   "cell_type": "code",
   "execution_count": 21,
   "metadata": {},
   "outputs": [
    {
     "data": {
      "text/html": [
       "<div>\n",
       "<style scoped>\n",
       "    .dataframe tbody tr th:only-of-type {\n",
       "        vertical-align: middle;\n",
       "    }\n",
       "\n",
       "    .dataframe tbody tr th {\n",
       "        vertical-align: top;\n",
       "    }\n",
       "\n",
       "    .dataframe thead th {\n",
       "        text-align: right;\n",
       "    }\n",
       "</style>\n",
       "<table border=\"1\" class=\"dataframe\">\n",
       "  <thead>\n",
       "    <tr style=\"text-align: right;\">\n",
       "      <th></th>\n",
       "      <th>Year</th>\n",
       "      <th>Calories from animal protein (FAO (2017))</th>\n",
       "      <th>Mean male height (cm)</th>\n",
       "    </tr>\n",
       "  </thead>\n",
       "  <tbody>\n",
       "    <tr>\n",
       "      <th>count</th>\n",
       "      <td>24479.00000</td>\n",
       "      <td>8981.000000</td>\n",
       "      <td>21008.000000</td>\n",
       "    </tr>\n",
       "    <tr>\n",
       "      <th>mean</th>\n",
       "      <td>1954.21496</td>\n",
       "      <td>126.236535</td>\n",
       "      <td>168.326718</td>\n",
       "    </tr>\n",
       "    <tr>\n",
       "      <th>std</th>\n",
       "      <td>33.91391</td>\n",
       "      <td>79.768442</td>\n",
       "      <td>5.225347</td>\n",
       "    </tr>\n",
       "    <tr>\n",
       "      <th>min</th>\n",
       "      <td>1896.00000</td>\n",
       "      <td>10.240000</td>\n",
       "      <td>152.884624</td>\n",
       "    </tr>\n",
       "    <tr>\n",
       "      <th>25%</th>\n",
       "      <td>1925.00000</td>\n",
       "      <td>57.320000</td>\n",
       "      <td>164.573544</td>\n",
       "    </tr>\n",
       "    <tr>\n",
       "      <th>50%</th>\n",
       "      <td>1954.00000</td>\n",
       "      <td>107.720000</td>\n",
       "      <td>168.314950</td>\n",
       "    </tr>\n",
       "    <tr>\n",
       "      <th>75%</th>\n",
       "      <td>1983.00000</td>\n",
       "      <td>192.440000</td>\n",
       "      <td>171.634683</td>\n",
       "    </tr>\n",
       "    <tr>\n",
       "      <th>max</th>\n",
       "      <td>2015.00000</td>\n",
       "      <td>422.720000</td>\n",
       "      <td>182.567309</td>\n",
       "    </tr>\n",
       "  </tbody>\n",
       "</table>\n",
       "</div>"
      ],
      "text/plain": [
       "              Year  Calories from animal protein (FAO (2017))  \\\n",
       "count  24479.00000                                8981.000000   \n",
       "mean    1954.21496                                 126.236535   \n",
       "std       33.91391                                  79.768442   \n",
       "min     1896.00000                                  10.240000   \n",
       "25%     1925.00000                                  57.320000   \n",
       "50%     1954.00000                                 107.720000   \n",
       "75%     1983.00000                                 192.440000   \n",
       "max     2015.00000                                 422.720000   \n",
       "\n",
       "       Mean male height (cm)  \n",
       "count           21008.000000  \n",
       "mean              168.326718  \n",
       "std                 5.225347  \n",
       "min               152.884624  \n",
       "25%               164.573544  \n",
       "50%               168.314950  \n",
       "75%               171.634683  \n",
       "max               182.567309  "
      ]
     },
     "execution_count": 21,
     "metadata": {},
     "output_type": "execute_result"
    }
   ],
   "source": [
    "data.describe()"
   ]
  },
  {
   "cell_type": "code",
   "execution_count": 26,
   "metadata": {},
   "outputs": [
    {
     "data": {
      "text/html": [
       "<div>\n",
       "<style scoped>\n",
       "    .dataframe tbody tr th:only-of-type {\n",
       "        vertical-align: middle;\n",
       "    }\n",
       "\n",
       "    .dataframe tbody tr th {\n",
       "        vertical-align: top;\n",
       "    }\n",
       "\n",
       "    .dataframe thead th {\n",
       "        text-align: right;\n",
       "    }\n",
       "</style>\n",
       "<table border=\"1\" class=\"dataframe\">\n",
       "  <thead>\n",
       "    <tr style=\"text-align: right;\">\n",
       "      <th></th>\n",
       "      <th>Entity</th>\n",
       "      <th>Code</th>\n",
       "      <th>Year</th>\n",
       "      <th>Calories from animal protein (FAO (2017))</th>\n",
       "      <th>Mean male height (cm)</th>\n",
       "      <th>Continent</th>\n",
       "    </tr>\n",
       "  </thead>\n",
       "  <tbody>\n",
       "    <tr>\n",
       "      <th>0</th>\n",
       "      <td>Abkhazia</td>\n",
       "      <td>OWID_ABK</td>\n",
       "      <td>2015</td>\n",
       "      <td>NaN</td>\n",
       "      <td>NaN</td>\n",
       "      <td>Asia</td>\n",
       "    </tr>\n",
       "    <tr>\n",
       "      <th>1</th>\n",
       "      <td>Afghanistan</td>\n",
       "      <td>AFG</td>\n",
       "      <td>1961</td>\n",
       "      <td>54.12</td>\n",
       "      <td>164.797132</td>\n",
       "      <td>NaN</td>\n",
       "    </tr>\n",
       "    <tr>\n",
       "      <th>2</th>\n",
       "      <td>Afghanistan</td>\n",
       "      <td>AFG</td>\n",
       "      <td>1962</td>\n",
       "      <td>53.92</td>\n",
       "      <td>164.849830</td>\n",
       "      <td>NaN</td>\n",
       "    </tr>\n",
       "    <tr>\n",
       "      <th>3</th>\n",
       "      <td>Afghanistan</td>\n",
       "      <td>AFG</td>\n",
       "      <td>1963</td>\n",
       "      <td>56.80</td>\n",
       "      <td>164.899145</td>\n",
       "      <td>NaN</td>\n",
       "    </tr>\n",
       "    <tr>\n",
       "      <th>4</th>\n",
       "      <td>Afghanistan</td>\n",
       "      <td>AFG</td>\n",
       "      <td>1964</td>\n",
       "      <td>57.32</td>\n",
       "      <td>164.943613</td>\n",
       "      <td>NaN</td>\n",
       "    </tr>\n",
       "  </tbody>\n",
       "</table>\n",
       "</div>"
      ],
      "text/plain": [
       "        Entity      Code  Year  Calories from animal protein (FAO (2017))  \\\n",
       "0     Abkhazia  OWID_ABK  2015                                        NaN   \n",
       "1  Afghanistan       AFG  1961                                      54.12   \n",
       "2  Afghanistan       AFG  1962                                      53.92   \n",
       "3  Afghanistan       AFG  1963                                      56.80   \n",
       "4  Afghanistan       AFG  1964                                      57.32   \n",
       "\n",
       "   Mean male height (cm) Continent  \n",
       "0                    NaN      Asia  \n",
       "1             164.797132       NaN  \n",
       "2             164.849830       NaN  \n",
       "3             164.899145       NaN  \n",
       "4             164.943613       NaN  "
      ]
     },
     "execution_count": 26,
     "metadata": {},
     "output_type": "execute_result"
    }
   ],
   "source": [
    "data.head()"
   ]
  },
  {
   "cell_type": "code",
   "execution_count": 27,
   "metadata": {},
   "outputs": [
    {
     "data": {
      "text/html": [
       "<div>\n",
       "<style scoped>\n",
       "    .dataframe tbody tr th:only-of-type {\n",
       "        vertical-align: middle;\n",
       "    }\n",
       "\n",
       "    .dataframe tbody tr th {\n",
       "        vertical-align: top;\n",
       "    }\n",
       "\n",
       "    .dataframe thead th {\n",
       "        text-align: right;\n",
       "    }\n",
       "</style>\n",
       "<table border=\"1\" class=\"dataframe\">\n",
       "  <thead>\n",
       "    <tr style=\"text-align: right;\">\n",
       "      <th></th>\n",
       "      <th>Entity</th>\n",
       "      <th>Code</th>\n",
       "      <th>Year</th>\n",
       "      <th>Calories from animal protein (FAO (2017))</th>\n",
       "      <th>Mean male height (cm)</th>\n",
       "      <th>Continent</th>\n",
       "    </tr>\n",
       "  </thead>\n",
       "  <tbody>\n",
       "    <tr>\n",
       "      <th>24474</th>\n",
       "      <td>Zimbabwe</td>\n",
       "      <td>ZWE</td>\n",
       "      <td>1958</td>\n",
       "      <td>NaN</td>\n",
       "      <td>170.803172</td>\n",
       "      <td>NaN</td>\n",
       "    </tr>\n",
       "    <tr>\n",
       "      <th>24475</th>\n",
       "      <td>Zimbabwe</td>\n",
       "      <td>ZWE</td>\n",
       "      <td>1959</td>\n",
       "      <td>NaN</td>\n",
       "      <td>170.890578</td>\n",
       "      <td>NaN</td>\n",
       "    </tr>\n",
       "    <tr>\n",
       "      <th>24476</th>\n",
       "      <td>Zimbabwe</td>\n",
       "      <td>ZWE</td>\n",
       "      <td>1960</td>\n",
       "      <td>NaN</td>\n",
       "      <td>170.974537</td>\n",
       "      <td>NaN</td>\n",
       "    </tr>\n",
       "    <tr>\n",
       "      <th>24477</th>\n",
       "      <td>Zimbabwe</td>\n",
       "      <td>ZWE</td>\n",
       "      <td>2015</td>\n",
       "      <td>NaN</td>\n",
       "      <td>NaN</td>\n",
       "      <td>Africa</td>\n",
       "    </tr>\n",
       "    <tr>\n",
       "      <th>24478</th>\n",
       "      <td>Åland Islands</td>\n",
       "      <td>ALA</td>\n",
       "      <td>2015</td>\n",
       "      <td>NaN</td>\n",
       "      <td>NaN</td>\n",
       "      <td>Europe</td>\n",
       "    </tr>\n",
       "  </tbody>\n",
       "</table>\n",
       "</div>"
      ],
      "text/plain": [
       "              Entity Code  Year  Calories from animal protein (FAO (2017))  \\\n",
       "24474       Zimbabwe  ZWE  1958                                        NaN   \n",
       "24475       Zimbabwe  ZWE  1959                                        NaN   \n",
       "24476       Zimbabwe  ZWE  1960                                        NaN   \n",
       "24477       Zimbabwe  ZWE  2015                                        NaN   \n",
       "24478  Åland Islands  ALA  2015                                        NaN   \n",
       "\n",
       "       Mean male height (cm) Continent  \n",
       "24474             170.803172       NaN  \n",
       "24475             170.890578       NaN  \n",
       "24476             170.974537       NaN  \n",
       "24477                    NaN    Africa  \n",
       "24478                    NaN    Europe  "
      ]
     },
     "execution_count": 27,
     "metadata": {},
     "output_type": "execute_result"
    }
   ],
   "source": [
    "data.tail()"
   ]
  },
  {
   "cell_type": "code",
   "execution_count": 24,
   "metadata": {},
   "outputs": [
    {
     "data": {
      "text/plain": [
       "295"
      ]
     },
     "execution_count": 24,
     "metadata": {},
     "output_type": "execute_result"
    }
   ],
   "source": [
    "len(data['Entity'].unique())"
   ]
  },
  {
   "cell_type": "code",
   "execution_count": 76,
   "metadata": {},
   "outputs": [
    {
     "data": {
      "text/html": [
       "<div>\n",
       "<style scoped>\n",
       "    .dataframe tbody tr th:only-of-type {\n",
       "        vertical-align: middle;\n",
       "    }\n",
       "\n",
       "    .dataframe tbody tr th {\n",
       "        vertical-align: top;\n",
       "    }\n",
       "\n",
       "    .dataframe thead th {\n",
       "        text-align: right;\n",
       "    }\n",
       "</style>\n",
       "<table border=\"1\" class=\"dataframe\">\n",
       "  <thead>\n",
       "    <tr style=\"text-align: right;\">\n",
       "      <th></th>\n",
       "      <th>Year</th>\n",
       "      <th>Mean male height (cm)</th>\n",
       "    </tr>\n",
       "    <tr>\n",
       "      <th>Entity</th>\n",
       "      <th></th>\n",
       "      <th></th>\n",
       "    </tr>\n",
       "  </thead>\n",
       "  <tbody>\n",
       "    <tr>\n",
       "      <th>Abkhazia</th>\n",
       "      <td>2015.000000</td>\n",
       "      <td>NaN</td>\n",
       "    </tr>\n",
       "    <tr>\n",
       "      <th>Afghanistan</th>\n",
       "      <td>1955.008403</td>\n",
       "      <td>163.634297</td>\n",
       "    </tr>\n",
       "    <tr>\n",
       "      <th>Akrotiri and Dhekelia</th>\n",
       "      <td>2015.000000</td>\n",
       "      <td>NaN</td>\n",
       "    </tr>\n",
       "    <tr>\n",
       "      <th>Albania</th>\n",
       "      <td>1955.008403</td>\n",
       "      <td>170.035486</td>\n",
       "    </tr>\n",
       "    <tr>\n",
       "      <th>Algeria</th>\n",
       "      <td>1955.008403</td>\n",
       "      <td>168.681924</td>\n",
       "    </tr>\n",
       "    <tr>\n",
       "      <th>...</th>\n",
       "      <td>...</td>\n",
       "      <td>...</td>\n",
       "    </tr>\n",
       "    <tr>\n",
       "      <th>Yugoslavia</th>\n",
       "      <td>1977.218750</td>\n",
       "      <td>NaN</td>\n",
       "    </tr>\n",
       "    <tr>\n",
       "      <th>Zambia</th>\n",
       "      <td>1955.008403</td>\n",
       "      <td>167.000935</td>\n",
       "    </tr>\n",
       "    <tr>\n",
       "      <th>Zanzibar</th>\n",
       "      <td>2015.000000</td>\n",
       "      <td>NaN</td>\n",
       "    </tr>\n",
       "    <tr>\n",
       "      <th>Zimbabwe</th>\n",
       "      <td>1955.008403</td>\n",
       "      <td>168.793135</td>\n",
       "    </tr>\n",
       "    <tr>\n",
       "      <th>Åland Islands</th>\n",
       "      <td>2015.000000</td>\n",
       "      <td>NaN</td>\n",
       "    </tr>\n",
       "  </tbody>\n",
       "</table>\n",
       "<p>295 rows × 2 columns</p>\n",
       "</div>"
      ],
      "text/plain": [
       "                              Year  Mean male height (cm)\n",
       "Entity                                                   \n",
       "Abkhazia               2015.000000                    NaN\n",
       "Afghanistan            1955.008403             163.634297\n",
       "Akrotiri and Dhekelia  2015.000000                    NaN\n",
       "Albania                1955.008403             170.035486\n",
       "Algeria                1955.008403             168.681924\n",
       "...                            ...                    ...\n",
       "Yugoslavia             1977.218750                    NaN\n",
       "Zambia                 1955.008403             167.000935\n",
       "Zanzibar               2015.000000                    NaN\n",
       "Zimbabwe               1955.008403             168.793135\n",
       "Åland Islands          2015.000000                    NaN\n",
       "\n",
       "[295 rows x 2 columns]"
      ]
     },
     "execution_count": 76,
     "metadata": {},
     "output_type": "execute_result"
    }
   ],
   "source": [
    "data.groupby('Entity').mean().iloc[:, [0,2]]"
   ]
  },
  {
   "cell_type": "code",
   "execution_count": 86,
   "metadata": {},
   "outputs": [
    {
     "data": {
      "text/html": [
       "<div>\n",
       "<style scoped>\n",
       "    .dataframe tbody tr th:only-of-type {\n",
       "        vertical-align: middle;\n",
       "    }\n",
       "\n",
       "    .dataframe tbody tr th {\n",
       "        vertical-align: top;\n",
       "    }\n",
       "\n",
       "    .dataframe thead th {\n",
       "        text-align: right;\n",
       "    }\n",
       "</style>\n",
       "<table border=\"1\" class=\"dataframe\">\n",
       "  <thead>\n",
       "    <tr style=\"text-align: right;\">\n",
       "      <th></th>\n",
       "      <th>Calories from animal protein (FAO (2017))</th>\n",
       "      <th>Mean male height (cm)</th>\n",
       "    </tr>\n",
       "    <tr>\n",
       "      <th>Year</th>\n",
       "      <th></th>\n",
       "      <th></th>\n",
       "    </tr>\n",
       "  </thead>\n",
       "  <tbody>\n",
       "    <tr>\n",
       "      <th>1896</th>\n",
       "      <td>NaN</td>\n",
       "      <td>162.480653</td>\n",
       "    </tr>\n",
       "    <tr>\n",
       "      <th>1897</th>\n",
       "      <td>NaN</td>\n",
       "      <td>162.598008</td>\n",
       "    </tr>\n",
       "    <tr>\n",
       "      <th>1898</th>\n",
       "      <td>NaN</td>\n",
       "      <td>162.715559</td>\n",
       "    </tr>\n",
       "    <tr>\n",
       "      <th>1899</th>\n",
       "      <td>NaN</td>\n",
       "      <td>162.833258</td>\n",
       "    </tr>\n",
       "    <tr>\n",
       "      <th>1900</th>\n",
       "      <td>NaN</td>\n",
       "      <td>162.950989</td>\n",
       "    </tr>\n",
       "    <tr>\n",
       "      <th>...</th>\n",
       "      <td>...</td>\n",
       "      <td>...</td>\n",
       "    </tr>\n",
       "    <tr>\n",
       "      <th>2010</th>\n",
       "      <td>145.156552</td>\n",
       "      <td>NaN</td>\n",
       "    </tr>\n",
       "    <tr>\n",
       "      <th>2011</th>\n",
       "      <td>146.365780</td>\n",
       "      <td>NaN</td>\n",
       "    </tr>\n",
       "    <tr>\n",
       "      <th>2012</th>\n",
       "      <td>146.838613</td>\n",
       "      <td>NaN</td>\n",
       "    </tr>\n",
       "    <tr>\n",
       "      <th>2013</th>\n",
       "      <td>147.589827</td>\n",
       "      <td>NaN</td>\n",
       "    </tr>\n",
       "    <tr>\n",
       "      <th>2015</th>\n",
       "      <td>NaN</td>\n",
       "      <td>NaN</td>\n",
       "    </tr>\n",
       "  </tbody>\n",
       "</table>\n",
       "<p>119 rows × 2 columns</p>\n",
       "</div>"
      ],
      "text/plain": [
       "      Calories from animal protein (FAO (2017))  Mean male height (cm)\n",
       "Year                                                                  \n",
       "1896                                        NaN             162.480653\n",
       "1897                                        NaN             162.598008\n",
       "1898                                        NaN             162.715559\n",
       "1899                                        NaN             162.833258\n",
       "1900                                        NaN             162.950989\n",
       "...                                         ...                    ...\n",
       "2010                                 145.156552                    NaN\n",
       "2011                                 146.365780                    NaN\n",
       "2012                                 146.838613                    NaN\n",
       "2013                                 147.589827                    NaN\n",
       "2015                                        NaN                    NaN\n",
       "\n",
       "[119 rows x 2 columns]"
      ]
     },
     "execution_count": 86,
     "metadata": {},
     "output_type": "execute_result"
    }
   ],
   "source": [
    "data1 = data.groupby('Year').mean().iloc[:,0:2]\n",
    "data1"
   ]
  },
  {
   "cell_type": "code",
   "execution_count": 81,
   "metadata": {},
   "outputs": [],
   "source": [
    "data1 = data1.rename({'Mean male height (cm)': 'Mean_male_height'}, axis=1)"
   ]
  },
  {
   "cell_type": "markdown",
   "metadata": {},
   "source": [
    "## График зависимости среднего роста мужчин от года"
   ]
  },
  {
   "cell_type": "code",
   "execution_count": 82,
   "metadata": {},
   "outputs": [
    {
     "data": {
      "text/plain": [
       "<AxesSubplot:xlabel='Year', ylabel='Mean_male_height'>"
      ]
     },
     "execution_count": 82,
     "metadata": {},
     "output_type": "execute_result"
    },
    {
     "data": {
      "image/png": "[encoded data removed]",
      "text/plain": [
       "<Figure size 432x288 with 1 Axes>"
      ]
     },
     "metadata": {
      "needs_background": "light"
     },
     "output_type": "display_data"
    }
   ],
   "source": [
    "sns.lineplot(x=\"Year\", y=\"Mean_male_height\", data=data1)"
   ]
  },
  {
   "cell_type": "markdown",
   "metadata": {},
   "source": [
    "# Numpy"
   ]
  },
  {
   "cell_type": "code",
   "execution_count": 93,
   "metadata": {},
   "outputs": [
    {
     "data": {
      "text/plain": [
       "array([0, 0, 0, 0, 0, 0, 0, 0, 0, 0], dtype=int64)"
      ]
     },
     "execution_count": 93,
     "metadata": {},
     "output_type": "execute_result"
    }
   ],
   "source": [
    "np.zeros(10, dtype=np.int64)"
   ]
  },
  {
   "cell_type": "code",
   "execution_count": 95,
   "metadata": {},
   "outputs": [
    {
     "data": {
      "text/plain": [
       "array([5.8, 5.8, 5.8, 5.8, 5.8, 5.8, 5.8, 5.8, 5.8, 5.8])"
      ]
     },
     "execution_count": 95,
     "metadata": {},
     "output_type": "execute_result"
    }
   ],
   "source": [
    "np.full(10, 5.8)"
   ]
  },
  {
   "cell_type": "code",
   "execution_count": 119,
   "metadata": {},
   "outputs": [
    {
     "data": {
      "text/plain": [
       "array([[[0.26, 0.97, 0.21],\n",
       "        [0.58, 0.32, 0.98],\n",
       "        [0.83, 0.86, 0.7 ]],\n",
       "\n",
       "       [[0.22, 0.56, 0.24],\n",
       "        [0.34, 0.62, 0.09],\n",
       "        [0.44, 0.1 , 0.89]],\n",
       "\n",
       "       [[0.36, 0.46, 0.56],\n",
       "        [0.24, 0.97, 0.48],\n",
       "        [0.96, 0.96, 0.97]]])"
      ]
     },
     "execution_count": 119,
     "metadata": {},
     "output_type": "execute_result"
    }
   ],
   "source": [
    "np.random.rand(3, 3, 3).round(2)"
   ]
  },
  {
   "cell_type": "code",
   "execution_count": 147,
   "metadata": {},
   "outputs": [],
   "source": [
    "chess = np.zeros((8, 8))"
   ]
  },
  {
   "cell_type": "code",
   "execution_count": 148,
   "metadata": {},
   "outputs": [],
   "source": [
    "chess[::2, ::2] = 1\n",
    "chess[1::2, 1::2] = 1"
   ]
  },
  {
   "cell_type": "code",
   "execution_count": 149,
   "metadata": {},
   "outputs": [
    {
     "data": {
      "text/plain": [
       "array([[1., 0., 1., 0., 1., 0., 1., 0.],\n",
       "       [0., 1., 0., 1., 0., 1., 0., 1.],\n",
       "       [1., 0., 1., 0., 1., 0., 1., 0.],\n",
       "       [0., 1., 0., 1., 0., 1., 0., 1.],\n",
       "       [1., 0., 1., 0., 1., 0., 1., 0.],\n",
       "       [0., 1., 0., 1., 0., 1., 0., 1.],\n",
       "       [1., 0., 1., 0., 1., 0., 1., 0.],\n",
       "       [0., 1., 0., 1., 0., 1., 0., 1.]])"
      ]
     },
     "execution_count": 149,
     "metadata": {},
     "output_type": "execute_result"
    }
   ],
   "source": [
    "chess"
   ]
  },
  {
   "cell_type": "code",
   "execution_count": 163,
   "metadata": {},
   "outputs": [],
   "source": [
    "matrix = np.random.rand(4, 4).round(2)"
   ]
  },
  {
   "cell_type": "markdown",
   "metadata": {},
   "source": [
    "# Scipy"
   ]
  },
  {
   "cell_type": "code",
   "execution_count": 156,
   "metadata": {},
   "outputs": [
    {
     "data": {
      "text/plain": [
       "(63.57192010714263, 2.1778037844715755e-12)"
      ]
     },
     "execution_count": 156,
     "metadata": {},
     "output_type": "execute_result"
    }
   ],
   "source": [
    "f1 = lambda x: math.sin(x)*x**2\n",
    "integrate.quad(f1, -3, 10)"
   ]
  },
  {
   "cell_type": "code",
   "execution_count": 164,
   "metadata": {},
   "outputs": [
    {
     "data": {
      "text/plain": [
       "-0.029135860000000006"
      ]
     },
     "execution_count": 164,
     "metadata": {},
     "output_type": "execute_result"
    }
   ],
   "source": [
    "linalg.det(matrix)"
   ]
  },
  {
   "cell_type": "code",
   "execution_count": 165,
   "metadata": {},
   "outputs": [
    {
     "data": {
      "text/plain": [
       "array([[-1.85839718, -2.24040066,  1.835779  ,  4.05932758],\n",
       "       [ 2.87487653, -5.82018173,  0.08738373,  4.47276998],\n",
       "       [-0.46595501,  1.58800873, -0.81404839,  0.43787964],\n",
       "       [-0.23778258,  3.34426374,  0.14439251, -3.72468841]])"
      ]
     },
     "execution_count": 165,
     "metadata": {},
     "output_type": "execute_result"
    }
   ],
   "source": [
    "linalg.inv(matrix)"
   ]
  },
  {
   "cell_type": "code",
   "execution_count": 166,
   "metadata": {},
   "outputs": [
    {
     "data": {
      "text/plain": [
       "(array([ 1.61046386+0.j, -0.52177045+0.j, -0.22367889+0.j, -0.15501452+0.j]),\n",
       " array([[ 0.55055862, -0.37218162,  0.84691916, -0.7071784 ],\n",
       "        [ 0.52375329,  0.27017869,  0.16674174, -0.47659227],\n",
       "        [ 0.51990429, -0.74086442,  0.09489163,  0.0353302 ],\n",
       "        [ 0.39021434,  0.48949385, -0.49590392,  0.52106649]]))"
      ]
     },
     "execution_count": 166,
     "metadata": {},
     "output_type": "execute_result"
    }
   ],
   "source": [
    "linalg.eig(matrix)"
   ]
  },
  {
   "cell_type": "markdown",
   "metadata": {},
   "source": [
    "# Matplotlib/Seaborn"
   ]
  },
  {
   "cell_type": "code",
   "execution_count": 167,
   "metadata": {},
   "outputs": [],
   "source": [
    "import matplotlib.pyplot as plt"
   ]
  },
  {
   "cell_type": "code",
   "execution_count": 183,
   "metadata": {},
   "outputs": [
    {
     "data": {
      "image/png": "[encoded data removed]",
      "text/plain": [
       "<Figure size 432x288 with 1 Axes>"
      ]
     },
     "metadata": {
      "needs_background": "light"
     },
     "output_type": "display_data"
    }
   ],
   "source": [
    "lag = 0.0001\n",
    "x = np.arange(0.0, 12.56*3, lag)\n",
    "y = np.sin(x)\n",
    "\n",
    "fig = plt.figure()\n",
    "plt.plot(x, y)\n",
    "plt.grid()\n",
    "\n",
    "plt.title('Sin(x)')\n",
    "plt.ylabel('Ось ординат')\n",
    "plt.xlabel('Ось абсцисс');"
   ]
  },
  {
   "cell_type": "code",
   "execution_count": 221,
   "metadata": {},
   "outputs": [
    {
     "data": {
      "image/png": "[encoded data removed]",
      "text/plain": [
       "<Figure size 432x288 with 1 Axes>"
      ]
     },
     "metadata": {
      "needs_background": "light"
     },
     "output_type": "display_data"
    }
   ],
   "source": [
    "lag = 0.0001\n",
    "x1 = np.arange(0.0, 12.56*3, lag)\n",
    "x2 = np.arange(-1.58, 36.12, lag)\n",
    "y1 = np.sin(x1)\n",
    "y2 = np.cos(x2)\n",
    "\n",
    "fig = plt.figure()\n",
    "plt.plot(x1, y1, '--m', x2, y2, ':k')\n",
    "plt.grid()\n",
    "\n",
    "plt.title('Sin(x) vs Cos(x)')\n",
    "plt.ylabel('Ось ординат')\n",
    "plt.xlabel('Ось абсцисс');"
   ]
  },
  {
   "cell_type": "code",
   "execution_count": 226,
   "metadata": {},
   "outputs": [
    {
     "data": {
      "text/plain": [
       "Text(0.5, 1.0, 'cos(x)')"
      ]
     },
     "execution_count": 226,
     "metadata": {},
     "output_type": "execute_result"
    },
    {
     "data": {
      "image/png": "[encoded data removed]",
      "text/plain": [
       "<Figure size 1800x720 with 2 Axes>"
      ]
     },
     "metadata": {
      "needs_background": "light"
     },
     "output_type": "display_data"
    }
   ],
   "source": [
    "plt.figure(figsize=(25, 10))\n",
    "\n",
    "plt.subplot(2, 2, 1)\n",
    "plt.plot(x1, y1, '-.g')\n",
    "plt.grid()\n",
    "plt.title('sin(x)')\n",
    "\n",
    "plt.subplot(2, 2, 2)\n",
    "plt.plot(x2, y2, '-r')\n",
    "plt.grid()\n",
    "plt.title('cos(x)')"
   ]
  },
  {
   "cell_type": "markdown",
   "metadata": {},
   "source": [
    "# УРОК 2"
   ]
  },
  {
   "cell_type": "markdown",
   "metadata": {},
   "source": [
    "# Pandas"
   ]
  },
  {
   "cell_type": "code",
   "execution_count": 227,
   "metadata": {},
   "outputs": [
    {
     "data": {
      "text/html": [
       "<div>\n",
       "<style scoped>\n",
       "    .dataframe tbody tr th:only-of-type {\n",
       "        vertical-align: middle;\n",
       "    }\n",
       "\n",
       "    .dataframe tbody tr th {\n",
       "        vertical-align: top;\n",
       "    }\n",
       "\n",
       "    .dataframe thead th {\n",
       "        text-align: right;\n",
       "    }\n",
       "</style>\n",
       "<table border=\"1\" class=\"dataframe\">\n",
       "  <thead>\n",
       "    <tr style=\"text-align: right;\">\n",
       "      <th></th>\n",
       "      <th>Entity</th>\n",
       "      <th>Code</th>\n",
       "      <th>Year</th>\n",
       "      <th>Calories from animal protein (FAO (2017))</th>\n",
       "      <th>Mean male height (cm)</th>\n",
       "      <th>Continent</th>\n",
       "    </tr>\n",
       "  </thead>\n",
       "  <tbody>\n",
       "    <tr>\n",
       "      <th>0</th>\n",
       "      <td>Abkhazia</td>\n",
       "      <td>OWID_ABK</td>\n",
       "      <td>2015</td>\n",
       "      <td>NaN</td>\n",
       "      <td>NaN</td>\n",
       "      <td>Asia</td>\n",
       "    </tr>\n",
       "    <tr>\n",
       "      <th>1</th>\n",
       "      <td>Afghanistan</td>\n",
       "      <td>AFG</td>\n",
       "      <td>1961</td>\n",
       "      <td>54.12</td>\n",
       "      <td>164.797132</td>\n",
       "      <td>NaN</td>\n",
       "    </tr>\n",
       "    <tr>\n",
       "      <th>2</th>\n",
       "      <td>Afghanistan</td>\n",
       "      <td>AFG</td>\n",
       "      <td>1962</td>\n",
       "      <td>53.92</td>\n",
       "      <td>164.849830</td>\n",
       "      <td>NaN</td>\n",
       "    </tr>\n",
       "    <tr>\n",
       "      <th>3</th>\n",
       "      <td>Afghanistan</td>\n",
       "      <td>AFG</td>\n",
       "      <td>1963</td>\n",
       "      <td>56.80</td>\n",
       "      <td>164.899145</td>\n",
       "      <td>NaN</td>\n",
       "    </tr>\n",
       "    <tr>\n",
       "      <th>4</th>\n",
       "      <td>Afghanistan</td>\n",
       "      <td>AFG</td>\n",
       "      <td>1964</td>\n",
       "      <td>57.32</td>\n",
       "      <td>164.943613</td>\n",
       "      <td>NaN</td>\n",
       "    </tr>\n",
       "  </tbody>\n",
       "</table>\n",
       "</div>"
      ],
      "text/plain": [
       "        Entity      Code  Year  Calories from animal protein (FAO (2017))  \\\n",
       "0     Abkhazia  OWID_ABK  2015                                        NaN   \n",
       "1  Afghanistan       AFG  1961                                      54.12   \n",
       "2  Afghanistan       AFG  1962                                      53.92   \n",
       "3  Afghanistan       AFG  1963                                      56.80   \n",
       "4  Afghanistan       AFG  1964                                      57.32   \n",
       "\n",
       "   Mean male height (cm) Continent  \n",
       "0                    NaN      Asia  \n",
       "1             164.797132       NaN  \n",
       "2             164.849830       NaN  \n",
       "3             164.899145       NaN  \n",
       "4             164.943613       NaN  "
      ]
     },
     "execution_count": 227,
     "metadata": {},
     "output_type": "execute_result"
    }
   ],
   "source": [
    "data.head()"
   ]
  },
  {
   "cell_type": "code",
   "execution_count": 228,
   "metadata": {},
   "outputs": [
    {
     "name": "stdout",
     "output_type": "stream",
     "text": [
      "<class 'pandas.core.frame.DataFrame'>\n",
      "RangeIndex: 24479 entries, 0 to 24478\n",
      "Data columns (total 6 columns):\n",
      " #   Column                                     Non-Null Count  Dtype  \n",
      "---  ------                                     --------------  -----  \n",
      " 0   Entity                                     24479 non-null  object \n",
      " 1   Code                                       23668 non-null  object \n",
      " 2   Year                                       24479 non-null  int64  \n",
      " 3   Calories from animal protein (FAO (2017))  8981 non-null   float64\n",
      " 4   Mean male height (cm)                      21008 non-null  float64\n",
      " 5   Continent                                  285 non-null    object \n",
      "dtypes: float64(2), int64(1), object(3)\n",
      "memory usage: 1.1+ MB\n"
     ]
    }
   ],
   "source": [
    "data.info()"
   ]
  },
  {
   "cell_type": "code",
   "execution_count": 229,
   "metadata": {},
   "outputs": [
    {
     "data": {
      "text/plain": [
       "Entity                                           0\n",
       "Code                                           811\n",
       "Year                                             0\n",
       "Calories from animal protein (FAO (2017))    15498\n",
       "Mean male height (cm)                         3471\n",
       "Continent                                    24194\n",
       "dtype: int64"
      ]
     },
     "execution_count": 229,
     "metadata": {},
     "output_type": "execute_result"
    }
   ],
   "source": [
    "data.isnull().sum()"
   ]
  },
  {
   "cell_type": "code",
   "execution_count": 230,
   "metadata": {},
   "outputs": [
    {
     "data": {
      "text/html": [
       "<div>\n",
       "<style scoped>\n",
       "    .dataframe tbody tr th:only-of-type {\n",
       "        vertical-align: middle;\n",
       "    }\n",
       "\n",
       "    .dataframe tbody tr th {\n",
       "        vertical-align: top;\n",
       "    }\n",
       "\n",
       "    .dataframe thead th {\n",
       "        text-align: right;\n",
       "    }\n",
       "</style>\n",
       "<table border=\"1\" class=\"dataframe\">\n",
       "  <thead>\n",
       "    <tr style=\"text-align: right;\">\n",
       "      <th></th>\n",
       "      <th>Year</th>\n",
       "      <th>Calories from animal protein (FAO (2017))</th>\n",
       "      <th>Mean male height (cm)</th>\n",
       "    </tr>\n",
       "  </thead>\n",
       "  <tbody>\n",
       "    <tr>\n",
       "      <th>count</th>\n",
       "      <td>24479.00000</td>\n",
       "      <td>8981.000000</td>\n",
       "      <td>21008.000000</td>\n",
       "    </tr>\n",
       "    <tr>\n",
       "      <th>mean</th>\n",
       "      <td>1954.21496</td>\n",
       "      <td>126.236535</td>\n",
       "      <td>168.326718</td>\n",
       "    </tr>\n",
       "    <tr>\n",
       "      <th>std</th>\n",
       "      <td>33.91391</td>\n",
       "      <td>79.768442</td>\n",
       "      <td>5.225347</td>\n",
       "    </tr>\n",
       "    <tr>\n",
       "      <th>min</th>\n",
       "      <td>1896.00000</td>\n",
       "      <td>10.240000</td>\n",
       "      <td>152.884624</td>\n",
       "    </tr>\n",
       "    <tr>\n",
       "      <th>25%</th>\n",
       "      <td>1925.00000</td>\n",
       "      <td>57.320000</td>\n",
       "      <td>164.573544</td>\n",
       "    </tr>\n",
       "    <tr>\n",
       "      <th>50%</th>\n",
       "      <td>1954.00000</td>\n",
       "      <td>107.720000</td>\n",
       "      <td>168.314950</td>\n",
       "    </tr>\n",
       "    <tr>\n",
       "      <th>75%</th>\n",
       "      <td>1983.00000</td>\n",
       "      <td>192.440000</td>\n",
       "      <td>171.634683</td>\n",
       "    </tr>\n",
       "    <tr>\n",
       "      <th>max</th>\n",
       "      <td>2015.00000</td>\n",
       "      <td>422.720000</td>\n",
       "      <td>182.567309</td>\n",
       "    </tr>\n",
       "  </tbody>\n",
       "</table>\n",
       "</div>"
      ],
      "text/plain": [
       "              Year  Calories from animal protein (FAO (2017))  \\\n",
       "count  24479.00000                                8981.000000   \n",
       "mean    1954.21496                                 126.236535   \n",
       "std       33.91391                                  79.768442   \n",
       "min     1896.00000                                  10.240000   \n",
       "25%     1925.00000                                  57.320000   \n",
       "50%     1954.00000                                 107.720000   \n",
       "75%     1983.00000                                 192.440000   \n",
       "max     2015.00000                                 422.720000   \n",
       "\n",
       "       Mean male height (cm)  \n",
       "count           21008.000000  \n",
       "mean              168.326718  \n",
       "std                 5.225347  \n",
       "min               152.884624  \n",
       "25%               164.573544  \n",
       "50%               168.314950  \n",
       "75%               171.634683  \n",
       "max               182.567309  "
      ]
     },
     "execution_count": 230,
     "metadata": {},
     "output_type": "execute_result"
    }
   ],
   "source": [
    "data.describe()"
   ]
  },
  {
   "cell_type": "code",
   "execution_count": 231,
   "metadata": {},
   "outputs": [
    {
     "data": {
      "text/html": [
       "<div>\n",
       "<style scoped>\n",
       "    .dataframe tbody tr th:only-of-type {\n",
       "        vertical-align: middle;\n",
       "    }\n",
       "\n",
       "    .dataframe tbody tr th {\n",
       "        vertical-align: top;\n",
       "    }\n",
       "\n",
       "    .dataframe thead th {\n",
       "        text-align: right;\n",
       "    }\n",
       "</style>\n",
       "<table border=\"1\" class=\"dataframe\">\n",
       "  <thead>\n",
       "    <tr style=\"text-align: right;\">\n",
       "      <th></th>\n",
       "      <th>Year</th>\n",
       "      <th>Calories from animal protein (FAO (2017))</th>\n",
       "      <th>Mean male height (cm)</th>\n",
       "    </tr>\n",
       "  </thead>\n",
       "  <tbody>\n",
       "    <tr>\n",
       "      <th>Year</th>\n",
       "      <td>1.000000</td>\n",
       "      <td>0.158168</td>\n",
       "      <td>0.572136</td>\n",
       "    </tr>\n",
       "    <tr>\n",
       "      <th>Calories from animal protein (FAO (2017))</th>\n",
       "      <td>0.158168</td>\n",
       "      <td>1.000000</td>\n",
       "      <td>0.720534</td>\n",
       "    </tr>\n",
       "    <tr>\n",
       "      <th>Mean male height (cm)</th>\n",
       "      <td>0.572136</td>\n",
       "      <td>0.720534</td>\n",
       "      <td>1.000000</td>\n",
       "    </tr>\n",
       "  </tbody>\n",
       "</table>\n",
       "</div>"
      ],
      "text/plain": [
       "                                               Year  \\\n",
       "Year                                       1.000000   \n",
       "Calories from animal protein (FAO (2017))  0.158168   \n",
       "Mean male height (cm)                      0.572136   \n",
       "\n",
       "                                           Calories from animal protein (FAO (2017))  \\\n",
       "Year                                                                        0.158168   \n",
       "Calories from animal protein (FAO (2017))                                   1.000000   \n",
       "Mean male height (cm)                                                       0.720534   \n",
       "\n",
       "                                           Mean male height (cm)  \n",
       "Year                                                    0.572136  \n",
       "Calories from animal protein (FAO (2017))               0.720534  \n",
       "Mean male height (cm)                                   1.000000  "
      ]
     },
     "execution_count": 231,
     "metadata": {},
     "output_type": "execute_result"
    }
   ],
   "source": [
    "data.corr()"
   ]
  },
  {
   "cell_type": "code",
   "execution_count": 249,
   "metadata": {},
   "outputs": [],
   "source": [
    "data.loc[(data['Entity']=='Albania'), 'Continent'] = 'Europe'"
   ]
  },
  {
   "cell_type": "code",
   "execution_count": 252,
   "metadata": {},
   "outputs": [],
   "source": [
    "data.loc[(data['Entity']=='Algeria'), 'Continent'] = 'Africa'"
   ]
  },
  {
   "cell_type": "code",
   "execution_count": 254,
   "metadata": {},
   "outputs": [],
   "source": [
    "data.loc[(data['Entity']=='American Samoa'), 'Continent'] = 'Oceania'"
   ]
  },
  {
   "cell_type": "code",
   "execution_count": 256,
   "metadata": {},
   "outputs": [],
   "source": [
    "data.loc[(data['Entity']=='Andorra'), 'Continent'] = 'Europe'"
   ]
  },
  {
   "cell_type": "code",
   "execution_count": 258,
   "metadata": {},
   "outputs": [],
   "source": [
    "data.loc[(data['Entity']=='Zimbabwe'), 'Continent'] = 'Africa'"
   ]
  },
  {
   "cell_type": "code",
   "execution_count": 265,
   "metadata": {},
   "outputs": [],
   "source": [
    "data.loc[(data['Entity']=='Austria') | (data['Entity']=='Russia'), 'Continent'] = 'Europe'"
   ]
  },
  {
   "cell_type": "code",
   "execution_count": 266,
   "metadata": {},
   "outputs": [
    {
     "data": {
      "text/html": [
       "<div>\n",
       "<style scoped>\n",
       "    .dataframe tbody tr th:only-of-type {\n",
       "        vertical-align: middle;\n",
       "    }\n",
       "\n",
       "    .dataframe tbody tr th {\n",
       "        vertical-align: top;\n",
       "    }\n",
       "\n",
       "    .dataframe thead th {\n",
       "        text-align: right;\n",
       "    }\n",
       "</style>\n",
       "<table border=\"1\" class=\"dataframe\">\n",
       "  <thead>\n",
       "    <tr style=\"text-align: right;\">\n",
       "      <th></th>\n",
       "      <th>Entity</th>\n",
       "      <th>Code</th>\n",
       "      <th>Year</th>\n",
       "      <th>Calories from animal protein (FAO (2017))</th>\n",
       "      <th>Mean male height (cm)</th>\n",
       "      <th>Continent</th>\n",
       "    </tr>\n",
       "  </thead>\n",
       "  <tbody>\n",
       "    <tr>\n",
       "      <th>563</th>\n",
       "      <td>Angola</td>\n",
       "      <td>AGO</td>\n",
       "      <td>1961</td>\n",
       "      <td>29.84</td>\n",
       "      <td>169.694701</td>\n",
       "      <td>NaN</td>\n",
       "    </tr>\n",
       "    <tr>\n",
       "      <th>564</th>\n",
       "      <td>Angola</td>\n",
       "      <td>AGO</td>\n",
       "      <td>1962</td>\n",
       "      <td>31.92</td>\n",
       "      <td>169.766976</td>\n",
       "      <td>NaN</td>\n",
       "    </tr>\n",
       "    <tr>\n",
       "      <th>565</th>\n",
       "      <td>Angola</td>\n",
       "      <td>AGO</td>\n",
       "      <td>1963</td>\n",
       "      <td>31.24</td>\n",
       "      <td>169.829845</td>\n",
       "      <td>NaN</td>\n",
       "    </tr>\n",
       "    <tr>\n",
       "      <th>566</th>\n",
       "      <td>Angola</td>\n",
       "      <td>AGO</td>\n",
       "      <td>1964</td>\n",
       "      <td>36.80</td>\n",
       "      <td>169.881452</td>\n",
       "      <td>NaN</td>\n",
       "    </tr>\n",
       "    <tr>\n",
       "      <th>567</th>\n",
       "      <td>Angola</td>\n",
       "      <td>AGO</td>\n",
       "      <td>1965</td>\n",
       "      <td>37.28</td>\n",
       "      <td>169.922472</td>\n",
       "      <td>NaN</td>\n",
       "    </tr>\n",
       "    <tr>\n",
       "      <th>...</th>\n",
       "      <td>...</td>\n",
       "      <td>...</td>\n",
       "      <td>...</td>\n",
       "      <td>...</td>\n",
       "      <td>...</td>\n",
       "      <td>...</td>\n",
       "    </tr>\n",
       "    <tr>\n",
       "      <th>24352</th>\n",
       "      <td>Zambia</td>\n",
       "      <td>ZMB</td>\n",
       "      <td>1956</td>\n",
       "      <td>NaN</td>\n",
       "      <td>169.261076</td>\n",
       "      <td>NaN</td>\n",
       "    </tr>\n",
       "    <tr>\n",
       "      <th>24353</th>\n",
       "      <td>Zambia</td>\n",
       "      <td>ZMB</td>\n",
       "      <td>1957</td>\n",
       "      <td>NaN</td>\n",
       "      <td>169.319461</td>\n",
       "      <td>NaN</td>\n",
       "    </tr>\n",
       "    <tr>\n",
       "      <th>24354</th>\n",
       "      <td>Zambia</td>\n",
       "      <td>ZMB</td>\n",
       "      <td>1958</td>\n",
       "      <td>NaN</td>\n",
       "      <td>169.374156</td>\n",
       "      <td>NaN</td>\n",
       "    </tr>\n",
       "    <tr>\n",
       "      <th>24355</th>\n",
       "      <td>Zambia</td>\n",
       "      <td>ZMB</td>\n",
       "      <td>1959</td>\n",
       "      <td>NaN</td>\n",
       "      <td>169.424234</td>\n",
       "      <td>NaN</td>\n",
       "    </tr>\n",
       "    <tr>\n",
       "      <th>24356</th>\n",
       "      <td>Zambia</td>\n",
       "      <td>ZMB</td>\n",
       "      <td>1960</td>\n",
       "      <td>NaN</td>\n",
       "      <td>169.469713</td>\n",
       "      <td>NaN</td>\n",
       "    </tr>\n",
       "  </tbody>\n",
       "</table>\n",
       "<p>23284 rows × 6 columns</p>\n",
       "</div>"
      ],
      "text/plain": [
       "       Entity Code  Year  Calories from animal protein (FAO (2017))  \\\n",
       "563    Angola  AGO  1961                                      29.84   \n",
       "564    Angola  AGO  1962                                      31.92   \n",
       "565    Angola  AGO  1963                                      31.24   \n",
       "566    Angola  AGO  1964                                      36.80   \n",
       "567    Angola  AGO  1965                                      37.28   \n",
       "...       ...  ...   ...                                        ...   \n",
       "24352  Zambia  ZMB  1956                                        NaN   \n",
       "24353  Zambia  ZMB  1957                                        NaN   \n",
       "24354  Zambia  ZMB  1958                                        NaN   \n",
       "24355  Zambia  ZMB  1959                                        NaN   \n",
       "24356  Zambia  ZMB  1960                                        NaN   \n",
       "\n",
       "       Mean male height (cm) Continent  \n",
       "563               169.694701       NaN  \n",
       "564               169.766976       NaN  \n",
       "565               169.829845       NaN  \n",
       "566               169.881452       NaN  \n",
       "567               169.922472       NaN  \n",
       "...                      ...       ...  \n",
       "24352             169.261076       NaN  \n",
       "24353             169.319461       NaN  \n",
       "24354             169.374156       NaN  \n",
       "24355             169.424234       NaN  \n",
       "24356             169.469713       NaN  \n",
       "\n",
       "[23284 rows x 6 columns]"
      ]
     },
     "execution_count": 266,
     "metadata": {},
     "output_type": "execute_result"
    }
   ],
   "source": [
    "data[data['Continent'].isnull()]"
   ]
  },
  {
   "cell_type": "code",
   "execution_count": 251,
   "metadata": {},
   "outputs": [
    {
     "data": {
      "text/plain": [
       "array(['Asia', 'Europe', nan, 'Africa', 'Oceania', 'North America',\n",
       "       'Antarctica', 'South America'], dtype=object)"
      ]
     },
     "execution_count": 251,
     "metadata": {},
     "output_type": "execute_result"
    }
   ],
   "source": [
    "data['Continent'].unique()"
   ]
  },
  {
   "cell_type": "code",
   "execution_count": 263,
   "metadata": {},
   "outputs": [
    {
     "data": {
      "text/plain": [
       "Uruguay               119\n",
       "Azerbaijan            119\n",
       "Oman                  119\n",
       "Australia             119\n",
       "Kyrgyzstan            119\n",
       "Madagascar            119\n",
       "Dominican Republic    119\n",
       "Russia                119\n",
       "Panama                119\n",
       "Benin                 119\n",
       "Lesotho               119\n",
       "Sri Lanka             119\n",
       "Dominica              119\n",
       "Kiribati              119\n",
       "Guinea-Bissau         119\n",
       "Barbados              119\n",
       "Nicaragua             119\n",
       "Japan                 119\n",
       "Austria               119\n",
       "Morocco               119\n",
       "Name: Entity, dtype: int64"
      ]
     },
     "execution_count": 263,
     "metadata": {},
     "output_type": "execute_result"
    }
   ],
   "source": [
    "data['Entity'].value_counts().head(20)"
   ]
  },
  {
   "cell_type": "code",
   "execution_count": 286,
   "metadata": {},
   "outputs": [],
   "source": [
    "data.insert(5, \"Mean_male_height_inch\", data.iloc[:, 4][data.iloc[:, 4].notnull()]/2.54)"
   ]
  },
  {
   "cell_type": "code",
   "execution_count": 291,
   "metadata": {},
   "outputs": [
    {
     "data": {
      "text/html": [
       "<div>\n",
       "<style scoped>\n",
       "    .dataframe tbody tr th:only-of-type {\n",
       "        vertical-align: middle;\n",
       "    }\n",
       "\n",
       "    .dataframe tbody tr th {\n",
       "        vertical-align: top;\n",
       "    }\n",
       "\n",
       "    .dataframe thead th {\n",
       "        text-align: right;\n",
       "    }\n",
       "</style>\n",
       "<table border=\"1\" class=\"dataframe\">\n",
       "  <thead>\n",
       "    <tr style=\"text-align: right;\">\n",
       "      <th></th>\n",
       "      <th>Entity</th>\n",
       "      <th>Code</th>\n",
       "      <th>Year</th>\n",
       "      <th>Calories from animal protein (FAO (2017))</th>\n",
       "      <th>Mean male height (cm)</th>\n",
       "      <th>Mean_male_height_inch</th>\n",
       "      <th>Height/calories</th>\n",
       "      <th>Continent</th>\n",
       "    </tr>\n",
       "  </thead>\n",
       "  <tbody>\n",
       "    <tr>\n",
       "      <th>0</th>\n",
       "      <td>Abkhazia</td>\n",
       "      <td>OWID_ABK</td>\n",
       "      <td>2015</td>\n",
       "      <td>NaN</td>\n",
       "      <td>NaN</td>\n",
       "      <td>NaN</td>\n",
       "      <td>NaN</td>\n",
       "      <td>Asia</td>\n",
       "    </tr>\n",
       "    <tr>\n",
       "      <th>1</th>\n",
       "      <td>Afghanistan</td>\n",
       "      <td>AFG</td>\n",
       "      <td>1961</td>\n",
       "      <td>54.12</td>\n",
       "      <td>164.797132</td>\n",
       "      <td>64.880761</td>\n",
       "      <td>64.880761</td>\n",
       "      <td>Asia</td>\n",
       "    </tr>\n",
       "    <tr>\n",
       "      <th>2</th>\n",
       "      <td>Afghanistan</td>\n",
       "      <td>AFG</td>\n",
       "      <td>1962</td>\n",
       "      <td>53.92</td>\n",
       "      <td>164.849830</td>\n",
       "      <td>64.901508</td>\n",
       "      <td>64.901508</td>\n",
       "      <td>Asia</td>\n",
       "    </tr>\n",
       "    <tr>\n",
       "      <th>3</th>\n",
       "      <td>Afghanistan</td>\n",
       "      <td>AFG</td>\n",
       "      <td>1963</td>\n",
       "      <td>56.80</td>\n",
       "      <td>164.899145</td>\n",
       "      <td>64.920923</td>\n",
       "      <td>64.920923</td>\n",
       "      <td>Asia</td>\n",
       "    </tr>\n",
       "    <tr>\n",
       "      <th>4</th>\n",
       "      <td>Afghanistan</td>\n",
       "      <td>AFG</td>\n",
       "      <td>1964</td>\n",
       "      <td>57.32</td>\n",
       "      <td>164.943613</td>\n",
       "      <td>64.938430</td>\n",
       "      <td>64.938430</td>\n",
       "      <td>Asia</td>\n",
       "    </tr>\n",
       "    <tr>\n",
       "      <th>...</th>\n",
       "      <td>...</td>\n",
       "      <td>...</td>\n",
       "      <td>...</td>\n",
       "      <td>...</td>\n",
       "      <td>...</td>\n",
       "      <td>...</td>\n",
       "      <td>...</td>\n",
       "      <td>...</td>\n",
       "    </tr>\n",
       "    <tr>\n",
       "      <th>24474</th>\n",
       "      <td>Zimbabwe</td>\n",
       "      <td>ZWE</td>\n",
       "      <td>1958</td>\n",
       "      <td>NaN</td>\n",
       "      <td>170.803172</td>\n",
       "      <td>67.245343</td>\n",
       "      <td>67.245343</td>\n",
       "      <td>Africa</td>\n",
       "    </tr>\n",
       "    <tr>\n",
       "      <th>24475</th>\n",
       "      <td>Zimbabwe</td>\n",
       "      <td>ZWE</td>\n",
       "      <td>1959</td>\n",
       "      <td>NaN</td>\n",
       "      <td>170.890578</td>\n",
       "      <td>67.279755</td>\n",
       "      <td>67.279755</td>\n",
       "      <td>Africa</td>\n",
       "    </tr>\n",
       "    <tr>\n",
       "      <th>24476</th>\n",
       "      <td>Zimbabwe</td>\n",
       "      <td>ZWE</td>\n",
       "      <td>1960</td>\n",
       "      <td>NaN</td>\n",
       "      <td>170.974537</td>\n",
       "      <td>67.312810</td>\n",
       "      <td>67.312810</td>\n",
       "      <td>Africa</td>\n",
       "    </tr>\n",
       "    <tr>\n",
       "      <th>24477</th>\n",
       "      <td>Zimbabwe</td>\n",
       "      <td>ZWE</td>\n",
       "      <td>2015</td>\n",
       "      <td>NaN</td>\n",
       "      <td>NaN</td>\n",
       "      <td>NaN</td>\n",
       "      <td>NaN</td>\n",
       "      <td>Africa</td>\n",
       "    </tr>\n",
       "    <tr>\n",
       "      <th>24478</th>\n",
       "      <td>Åland Islands</td>\n",
       "      <td>ALA</td>\n",
       "      <td>2015</td>\n",
       "      <td>NaN</td>\n",
       "      <td>NaN</td>\n",
       "      <td>NaN</td>\n",
       "      <td>NaN</td>\n",
       "      <td>Europe</td>\n",
       "    </tr>\n",
       "  </tbody>\n",
       "</table>\n",
       "<p>24479 rows × 8 columns</p>\n",
       "</div>"
      ],
      "text/plain": [
       "              Entity      Code  Year  \\\n",
       "0           Abkhazia  OWID_ABK  2015   \n",
       "1        Afghanistan       AFG  1961   \n",
       "2        Afghanistan       AFG  1962   \n",
       "3        Afghanistan       AFG  1963   \n",
       "4        Afghanistan       AFG  1964   \n",
       "...              ...       ...   ...   \n",
       "24474       Zimbabwe       ZWE  1958   \n",
       "24475       Zimbabwe       ZWE  1959   \n",
       "24476       Zimbabwe       ZWE  1960   \n",
       "24477       Zimbabwe       ZWE  2015   \n",
       "24478  Åland Islands       ALA  2015   \n",
       "\n",
       "       Calories from animal protein (FAO (2017))  Mean male height (cm)  \\\n",
       "0                                            NaN                    NaN   \n",
       "1                                          54.12             164.797132   \n",
       "2                                          53.92             164.849830   \n",
       "3                                          56.80             164.899145   \n",
       "4                                          57.32             164.943613   \n",
       "...                                          ...                    ...   \n",
       "24474                                        NaN             170.803172   \n",
       "24475                                        NaN             170.890578   \n",
       "24476                                        NaN             170.974537   \n",
       "24477                                        NaN                    NaN   \n",
       "24478                                        NaN                    NaN   \n",
       "\n",
       "       Mean_male_height_inch  Height/calories Continent  \n",
       "0                        NaN              NaN      Asia  \n",
       "1                  64.880761        64.880761      Asia  \n",
       "2                  64.901508        64.901508      Asia  \n",
       "3                  64.920923        64.920923      Asia  \n",
       "4                  64.938430        64.938430      Asia  \n",
       "...                      ...              ...       ...  \n",
       "24474              67.245343        67.245343    Africa  \n",
       "24475              67.279755        67.279755    Africa  \n",
       "24476              67.312810        67.312810    Africa  \n",
       "24477                    NaN              NaN    Africa  \n",
       "24478                    NaN              NaN    Europe  \n",
       "\n",
       "[24479 rows x 8 columns]"
      ]
     },
     "execution_count": 291,
     "metadata": {},
     "output_type": "execute_result"
    }
   ],
   "source": [
    "data"
   ]
  },
  {
   "cell_type": "code",
   "execution_count": 297,
   "metadata": {},
   "outputs": [],
   "source": [
    "data = data.drop(['Height/calories'], axis=1)"
   ]
  },
  {
   "cell_type": "code",
   "execution_count": 299,
   "metadata": {},
   "outputs": [],
   "source": [
    "data.insert(5, \"Height/calories\", data.iloc[:, 4][data.iloc[:, 4].notnull()]/data.iloc[:, 3][data.iloc[:, 3].notnull()])"
   ]
  },
  {
   "cell_type": "code",
   "execution_count": 301,
   "metadata": {},
   "outputs": [
    {
     "data": {
      "text/html": [
       "<div>\n",
       "<style scoped>\n",
       "    .dataframe tbody tr th:only-of-type {\n",
       "        vertical-align: middle;\n",
       "    }\n",
       "\n",
       "    .dataframe tbody tr th {\n",
       "        vertical-align: top;\n",
       "    }\n",
       "\n",
       "    .dataframe thead th {\n",
       "        text-align: right;\n",
       "    }\n",
       "</style>\n",
       "<table border=\"1\" class=\"dataframe\">\n",
       "  <thead>\n",
       "    <tr style=\"text-align: right;\">\n",
       "      <th></th>\n",
       "      <th>Entity</th>\n",
       "      <th>Code</th>\n",
       "      <th>Year</th>\n",
       "      <th>Calories from animal protein (FAO (2017))</th>\n",
       "      <th>Mean male height (cm)</th>\n",
       "      <th>Height/calories</th>\n",
       "      <th>Mean_male_height_inch</th>\n",
       "      <th>Continent</th>\n",
       "    </tr>\n",
       "  </thead>\n",
       "  <tbody>\n",
       "    <tr>\n",
       "      <th>0</th>\n",
       "      <td>Abkhazia</td>\n",
       "      <td>OWID_ABK</td>\n",
       "      <td>2015</td>\n",
       "      <td>NaN</td>\n",
       "      <td>NaN</td>\n",
       "      <td>NaN</td>\n",
       "      <td>NaN</td>\n",
       "      <td>Asia</td>\n",
       "    </tr>\n",
       "    <tr>\n",
       "      <th>1</th>\n",
       "      <td>Afghanistan</td>\n",
       "      <td>AFG</td>\n",
       "      <td>1961</td>\n",
       "      <td>54.12</td>\n",
       "      <td>164.797132</td>\n",
       "      <td>3.045032</td>\n",
       "      <td>64.880761</td>\n",
       "      <td>Asia</td>\n",
       "    </tr>\n",
       "    <tr>\n",
       "      <th>2</th>\n",
       "      <td>Afghanistan</td>\n",
       "      <td>AFG</td>\n",
       "      <td>1962</td>\n",
       "      <td>53.92</td>\n",
       "      <td>164.849830</td>\n",
       "      <td>3.057304</td>\n",
       "      <td>64.901508</td>\n",
       "      <td>Asia</td>\n",
       "    </tr>\n",
       "    <tr>\n",
       "      <th>3</th>\n",
       "      <td>Afghanistan</td>\n",
       "      <td>AFG</td>\n",
       "      <td>1963</td>\n",
       "      <td>56.80</td>\n",
       "      <td>164.899145</td>\n",
       "      <td>2.903154</td>\n",
       "      <td>64.920923</td>\n",
       "      <td>Asia</td>\n",
       "    </tr>\n",
       "    <tr>\n",
       "      <th>4</th>\n",
       "      <td>Afghanistan</td>\n",
       "      <td>AFG</td>\n",
       "      <td>1964</td>\n",
       "      <td>57.32</td>\n",
       "      <td>164.943613</td>\n",
       "      <td>2.877593</td>\n",
       "      <td>64.938430</td>\n",
       "      <td>Asia</td>\n",
       "    </tr>\n",
       "    <tr>\n",
       "      <th>5</th>\n",
       "      <td>Afghanistan</td>\n",
       "      <td>AFG</td>\n",
       "      <td>1965</td>\n",
       "      <td>59.76</td>\n",
       "      <td>164.983130</td>\n",
       "      <td>2.760762</td>\n",
       "      <td>64.953988</td>\n",
       "      <td>Asia</td>\n",
       "    </tr>\n",
       "    <tr>\n",
       "      <th>6</th>\n",
       "      <td>Afghanistan</td>\n",
       "      <td>AFG</td>\n",
       "      <td>1966</td>\n",
       "      <td>64.44</td>\n",
       "      <td>165.018904</td>\n",
       "      <td>2.560815</td>\n",
       "      <td>64.968073</td>\n",
       "      <td>Asia</td>\n",
       "    </tr>\n",
       "    <tr>\n",
       "      <th>7</th>\n",
       "      <td>Afghanistan</td>\n",
       "      <td>AFG</td>\n",
       "      <td>1967</td>\n",
       "      <td>67.08</td>\n",
       "      <td>165.051753</td>\n",
       "      <td>2.460521</td>\n",
       "      <td>64.981005</td>\n",
       "      <td>Asia</td>\n",
       "    </tr>\n",
       "    <tr>\n",
       "      <th>8</th>\n",
       "      <td>Afghanistan</td>\n",
       "      <td>AFG</td>\n",
       "      <td>1968</td>\n",
       "      <td>69.88</td>\n",
       "      <td>165.082659</td>\n",
       "      <td>2.362373</td>\n",
       "      <td>64.993173</td>\n",
       "      <td>Asia</td>\n",
       "    </tr>\n",
       "    <tr>\n",
       "      <th>9</th>\n",
       "      <td>Afghanistan</td>\n",
       "      <td>AFG</td>\n",
       "      <td>1969</td>\n",
       "      <td>68.76</td>\n",
       "      <td>165.113500</td>\n",
       "      <td>2.401302</td>\n",
       "      <td>65.005315</td>\n",
       "      <td>Asia</td>\n",
       "    </tr>\n",
       "    <tr>\n",
       "      <th>10</th>\n",
       "      <td>Afghanistan</td>\n",
       "      <td>AFG</td>\n",
       "      <td>1970</td>\n",
       "      <td>61.16</td>\n",
       "      <td>165.143963</td>\n",
       "      <td>2.700196</td>\n",
       "      <td>65.017308</td>\n",
       "      <td>Asia</td>\n",
       "    </tr>\n",
       "    <tr>\n",
       "      <th>11</th>\n",
       "      <td>Afghanistan</td>\n",
       "      <td>AFG</td>\n",
       "      <td>1971</td>\n",
       "      <td>57.24</td>\n",
       "      <td>165.174149</td>\n",
       "      <td>2.885642</td>\n",
       "      <td>65.029193</td>\n",
       "      <td>Asia</td>\n",
       "    </tr>\n",
       "    <tr>\n",
       "      <th>12</th>\n",
       "      <td>Afghanistan</td>\n",
       "      <td>AFG</td>\n",
       "      <td>1972</td>\n",
       "      <td>52.84</td>\n",
       "      <td>165.204067</td>\n",
       "      <td>3.126496</td>\n",
       "      <td>65.040971</td>\n",
       "      <td>Asia</td>\n",
       "    </tr>\n",
       "    <tr>\n",
       "      <th>13</th>\n",
       "      <td>Afghanistan</td>\n",
       "      <td>AFG</td>\n",
       "      <td>1973</td>\n",
       "      <td>55.84</td>\n",
       "      <td>165.233829</td>\n",
       "      <td>2.959059</td>\n",
       "      <td>65.052689</td>\n",
       "      <td>Asia</td>\n",
       "    </tr>\n",
       "    <tr>\n",
       "      <th>14</th>\n",
       "      <td>Afghanistan</td>\n",
       "      <td>AFG</td>\n",
       "      <td>1974</td>\n",
       "      <td>56.56</td>\n",
       "      <td>165.263110</td>\n",
       "      <td>2.921908</td>\n",
       "      <td>65.064217</td>\n",
       "      <td>Asia</td>\n",
       "    </tr>\n",
       "    <tr>\n",
       "      <th>15</th>\n",
       "      <td>Afghanistan</td>\n",
       "      <td>AFG</td>\n",
       "      <td>1975</td>\n",
       "      <td>57.04</td>\n",
       "      <td>165.291173</td>\n",
       "      <td>2.897812</td>\n",
       "      <td>65.075265</td>\n",
       "      <td>Asia</td>\n",
       "    </tr>\n",
       "    <tr>\n",
       "      <th>16</th>\n",
       "      <td>Afghanistan</td>\n",
       "      <td>AFG</td>\n",
       "      <td>1976</td>\n",
       "      <td>60.12</td>\n",
       "      <td>165.316936</td>\n",
       "      <td>2.749783</td>\n",
       "      <td>65.085408</td>\n",
       "      <td>Asia</td>\n",
       "    </tr>\n",
       "    <tr>\n",
       "      <th>17</th>\n",
       "      <td>Afghanistan</td>\n",
       "      <td>AFG</td>\n",
       "      <td>1977</td>\n",
       "      <td>58.00</td>\n",
       "      <td>165.338978</td>\n",
       "      <td>2.850672</td>\n",
       "      <td>65.094086</td>\n",
       "      <td>Asia</td>\n",
       "    </tr>\n",
       "    <tr>\n",
       "      <th>18</th>\n",
       "      <td>Afghanistan</td>\n",
       "      <td>AFG</td>\n",
       "      <td>1978</td>\n",
       "      <td>58.40</td>\n",
       "      <td>165.356772</td>\n",
       "      <td>2.831452</td>\n",
       "      <td>65.101091</td>\n",
       "      <td>Asia</td>\n",
       "    </tr>\n",
       "    <tr>\n",
       "      <th>19</th>\n",
       "      <td>Afghanistan</td>\n",
       "      <td>AFG</td>\n",
       "      <td>1979</td>\n",
       "      <td>58.60</td>\n",
       "      <td>165.370743</td>\n",
       "      <td>2.822026</td>\n",
       "      <td>65.106592</td>\n",
       "      <td>Asia</td>\n",
       "    </tr>\n",
       "    <tr>\n",
       "      <th>20</th>\n",
       "      <td>Afghanistan</td>\n",
       "      <td>AFG</td>\n",
       "      <td>1980</td>\n",
       "      <td>60.36</td>\n",
       "      <td>165.381291</td>\n",
       "      <td>2.739915</td>\n",
       "      <td>65.110745</td>\n",
       "      <td>Asia</td>\n",
       "    </tr>\n",
       "    <tr>\n",
       "      <th>21</th>\n",
       "      <td>Afghanistan</td>\n",
       "      <td>AFG</td>\n",
       "      <td>1981</td>\n",
       "      <td>63.36</td>\n",
       "      <td>165.389636</td>\n",
       "      <td>2.610316</td>\n",
       "      <td>65.114030</td>\n",
       "      <td>Asia</td>\n",
       "    </tr>\n",
       "    <tr>\n",
       "      <th>22</th>\n",
       "      <td>Afghanistan</td>\n",
       "      <td>AFG</td>\n",
       "      <td>1982</td>\n",
       "      <td>65.16</td>\n",
       "      <td>165.395939</td>\n",
       "      <td>2.538305</td>\n",
       "      <td>65.116511</td>\n",
       "      <td>Asia</td>\n",
       "    </tr>\n",
       "    <tr>\n",
       "      <th>23</th>\n",
       "      <td>Afghanistan</td>\n",
       "      <td>AFG</td>\n",
       "      <td>1983</td>\n",
       "      <td>67.08</td>\n",
       "      <td>165.399353</td>\n",
       "      <td>2.465703</td>\n",
       "      <td>65.117855</td>\n",
       "      <td>Asia</td>\n",
       "    </tr>\n",
       "    <tr>\n",
       "      <th>24</th>\n",
       "      <td>Afghanistan</td>\n",
       "      <td>AFG</td>\n",
       "      <td>1984</td>\n",
       "      <td>66.40</td>\n",
       "      <td>165.399963</td>\n",
       "      <td>2.490963</td>\n",
       "      <td>65.118096</td>\n",
       "      <td>Asia</td>\n",
       "    </tr>\n",
       "    <tr>\n",
       "      <th>25</th>\n",
       "      <td>Afghanistan</td>\n",
       "      <td>AFG</td>\n",
       "      <td>1985</td>\n",
       "      <td>59.76</td>\n",
       "      <td>165.397122</td>\n",
       "      <td>2.767689</td>\n",
       "      <td>65.116977</td>\n",
       "      <td>Asia</td>\n",
       "    </tr>\n",
       "    <tr>\n",
       "      <th>26</th>\n",
       "      <td>Afghanistan</td>\n",
       "      <td>AFG</td>\n",
       "      <td>1986</td>\n",
       "      <td>51.40</td>\n",
       "      <td>165.390915</td>\n",
       "      <td>3.217722</td>\n",
       "      <td>65.114533</td>\n",
       "      <td>Asia</td>\n",
       "    </tr>\n",
       "    <tr>\n",
       "      <th>27</th>\n",
       "      <td>Afghanistan</td>\n",
       "      <td>AFG</td>\n",
       "      <td>1987</td>\n",
       "      <td>56.20</td>\n",
       "      <td>165.381240</td>\n",
       "      <td>2.942727</td>\n",
       "      <td>65.110724</td>\n",
       "      <td>Asia</td>\n",
       "    </tr>\n",
       "    <tr>\n",
       "      <th>28</th>\n",
       "      <td>Afghanistan</td>\n",
       "      <td>AFG</td>\n",
       "      <td>1988</td>\n",
       "      <td>58.64</td>\n",
       "      <td>165.368705</td>\n",
       "      <td>2.820067</td>\n",
       "      <td>65.105790</td>\n",
       "      <td>Asia</td>\n",
       "    </tr>\n",
       "    <tr>\n",
       "      <th>29</th>\n",
       "      <td>Afghanistan</td>\n",
       "      <td>AFG</td>\n",
       "      <td>1989</td>\n",
       "      <td>59.84</td>\n",
       "      <td>165.355056</td>\n",
       "      <td>2.763286</td>\n",
       "      <td>65.100416</td>\n",
       "      <td>Asia</td>\n",
       "    </tr>\n",
       "  </tbody>\n",
       "</table>\n",
       "</div>"
      ],
      "text/plain": [
       "         Entity      Code  Year  Calories from animal protein (FAO (2017))  \\\n",
       "0      Abkhazia  OWID_ABK  2015                                        NaN   \n",
       "1   Afghanistan       AFG  1961                                      54.12   \n",
       "2   Afghanistan       AFG  1962                                      53.92   \n",
       "3   Afghanistan       AFG  1963                                      56.80   \n",
       "4   Afghanistan       AFG  1964                                      57.32   \n",
       "5   Afghanistan       AFG  1965                                      59.76   \n",
       "6   Afghanistan       AFG  1966                                      64.44   \n",
       "7   Afghanistan       AFG  1967                                      67.08   \n",
       "8   Afghanistan       AFG  1968                                      69.88   \n",
       "9   Afghanistan       AFG  1969                                      68.76   \n",
       "10  Afghanistan       AFG  1970                                      61.16   \n",
       "11  Afghanistan       AFG  1971                                      57.24   \n",
       "12  Afghanistan       AFG  1972                                      52.84   \n",
       "13  Afghanistan       AFG  1973                                      55.84   \n",
       "14  Afghanistan       AFG  1974                                      56.56   \n",
       "15  Afghanistan       AFG  1975                                      57.04   \n",
       "16  Afghanistan       AFG  1976                                      60.12   \n",
       "17  Afghanistan       AFG  1977                                      58.00   \n",
       "18  Afghanistan       AFG  1978                                      58.40   \n",
       "19  Afghanistan       AFG  1979                                      58.60   \n",
       "20  Afghanistan       AFG  1980                                      60.36   \n",
       "21  Afghanistan       AFG  1981                                      63.36   \n",
       "22  Afghanistan       AFG  1982                                      65.16   \n",
       "23  Afghanistan       AFG  1983                                      67.08   \n",
       "24  Afghanistan       AFG  1984                                      66.40   \n",
       "25  Afghanistan       AFG  1985                                      59.76   \n",
       "26  Afghanistan       AFG  1986                                      51.40   \n",
       "27  Afghanistan       AFG  1987                                      56.20   \n",
       "28  Afghanistan       AFG  1988                                      58.64   \n",
       "29  Afghanistan       AFG  1989                                      59.84   \n",
       "\n",
       "    Mean male height (cm)  Height/calories  Mean_male_height_inch Continent  \n",
       "0                     NaN              NaN                    NaN      Asia  \n",
       "1              164.797132         3.045032              64.880761      Asia  \n",
       "2              164.849830         3.057304              64.901508      Asia  \n",
       "3              164.899145         2.903154              64.920923      Asia  \n",
       "4              164.943613         2.877593              64.938430      Asia  \n",
       "5              164.983130         2.760762              64.953988      Asia  \n",
       "6              165.018904         2.560815              64.968073      Asia  \n",
       "7              165.051753         2.460521              64.981005      Asia  \n",
       "8              165.082659         2.362373              64.993173      Asia  \n",
       "9              165.113500         2.401302              65.005315      Asia  \n",
       "10             165.143963         2.700196              65.017308      Asia  \n",
       "11             165.174149         2.885642              65.029193      Asia  \n",
       "12             165.204067         3.126496              65.040971      Asia  \n",
       "13             165.233829         2.959059              65.052689      Asia  \n",
       "14             165.263110         2.921908              65.064217      Asia  \n",
       "15             165.291173         2.897812              65.075265      Asia  \n",
       "16             165.316936         2.749783              65.085408      Asia  \n",
       "17             165.338978         2.850672              65.094086      Asia  \n",
       "18             165.356772         2.831452              65.101091      Asia  \n",
       "19             165.370743         2.822026              65.106592      Asia  \n",
       "20             165.381291         2.739915              65.110745      Asia  \n",
       "21             165.389636         2.610316              65.114030      Asia  \n",
       "22             165.395939         2.538305              65.116511      Asia  \n",
       "23             165.399353         2.465703              65.117855      Asia  \n",
       "24             165.399963         2.490963              65.118096      Asia  \n",
       "25             165.397122         2.767689              65.116977      Asia  \n",
       "26             165.390915         3.217722              65.114533      Asia  \n",
       "27             165.381240         2.942727              65.110724      Asia  \n",
       "28             165.368705         2.820067              65.105790      Asia  \n",
       "29             165.355056         2.763286              65.100416      Asia  "
      ]
     },
     "execution_count": 301,
     "metadata": {},
     "output_type": "execute_result"
    }
   ],
   "source": [
    "data.head(30)"
   ]
  },
  {
   "cell_type": "markdown",
   "metadata": {},
   "source": [
    "# Numpy"
   ]
  },
  {
   "cell_type": "code",
   "execution_count": 308,
   "metadata": {},
   "outputs": [
    {
     "data": {
      "text/plain": [
       "(array([[6, 0, 7],\n",
       "        [6, 6, 1]]),\n",
       " array([[-4, -4,  1],\n",
       "        [-2, -6, -3]]))"
      ]
     },
     "execution_count": 308,
     "metadata": {},
     "output_type": "execute_result"
    }
   ],
   "source": [
    "a = np.array([[1, -2, 4],[2, 0, -1]])\n",
    "b = np.array([[5, 2, 3], [4, 6, 2]])\n",
    "a + b, a - b"
   ]
  },
  {
   "cell_type": "code",
   "execution_count": 307,
   "metadata": {},
   "outputs": [
    {
     "data": {
      "text/plain": [
       "array([[ 4, -1],\n",
       "       [-1, -7],\n",
       "       [ 3,  0]])"
      ]
     },
     "execution_count": 307,
     "metadata": {},
     "output_type": "execute_result"
    }
   ],
   "source": [
    "a1 = np.array([[1, 2], [2, -1], [3, 0]])\n",
    "b1 = np.array([[-1, 1], [1, 2], [0, 0]])\n",
    "c1 = a1 - 3*b1\n",
    "c1"
   ]
  },
  {
   "cell_type": "code",
   "execution_count": 312,
   "metadata": {},
   "outputs": [
    {
     "data": {
      "text/plain": [
       "array([[-1,  1],\n",
       "       [ 2,  2],\n",
       "       [ 3,  3]])"
      ]
     },
     "execution_count": 312,
     "metadata": {},
     "output_type": "execute_result"
    }
   ],
   "source": [
    "a2 = np.array([[1, -1], [2, 0], [3, 0]])\n",
    "b2 = np.array([[1, 1], [2, 0]])\n",
    "c3 = np.dot(a2, b2)\n",
    "c3"
   ]
  },
  {
   "cell_type": "code",
   "execution_count": 314,
   "metadata": {},
   "outputs": [
    {
     "data": {
      "text/plain": [
       "-95.99999999999999"
      ]
     },
     "execution_count": 314,
     "metadata": {},
     "output_type": "execute_result"
    }
   ],
   "source": [
    "a4 = np.array([[6, -1, 4], [2, 1, 10], [8, 0, 2]])\n",
    "np.linalg.det(a4)"
   ]
  },
  {
   "cell_type": "code",
   "execution_count": 331,
   "metadata": {},
   "outputs": [],
   "source": [
    "a5 = np.array([[3, 3, -1], [4, 1, 3], [1, -2, -2]])\n",
    "a5_inv = np.linalg.inv(a5)"
   ]
  },
  {
   "cell_type": "code",
   "execution_count": 332,
   "metadata": {},
   "outputs": [
    {
     "data": {
      "text/plain": [
       "array([[ 1.00000000e+00,  0.00000000e+00,  0.00000000e+00],\n",
       "       [-2.77555756e-17,  1.00000000e+00, -1.11022302e-16],\n",
       "       [-2.77555756e-17, -5.55111512e-17,  1.00000000e+00]])"
      ]
     },
     "execution_count": 332,
     "metadata": {},
     "output_type": "execute_result"
    }
   ],
   "source": [
    "prod = a5_inv.dot(a5)\n",
    "prod"
   ]
  },
  {
   "cell_type": "code",
   "execution_count": 333,
   "metadata": {},
   "outputs": [
    {
     "data": {
      "text/plain": [
       "array([[ 1.,  0.,  0.],\n",
       "       [-0.,  1., -0.],\n",
       "       [-0., -0.,  1.]])"
      ]
     },
     "execution_count": 333,
     "metadata": {},
     "output_type": "execute_result"
    }
   ],
   "source": [
    "np.round(prod, 0)"
   ]
  },
  {
   "cell_type": "code",
   "execution_count": null,
   "metadata": {},
   "outputs": [],
   "source": []
  }
 ],
 "metadata": {
  "kernelspec": {
   "display_name": "Python 3 (ipykernel)",
   "language": "python",
   "name": "python3"
  },
  "language_info": {
   "codemirror_mode": {
    "name": "ipython",
    "version": 3
   },
   "file_extension": ".py",
   "mimetype": "text/x-python",
   "name": "python",
   "nbconvert_exporter": "python",
   "pygments_lexer": "ipython3",
   "version": "3.9.12"
  }
 },
 "nbformat": 4,
 "nbformat_minor": 4
}
